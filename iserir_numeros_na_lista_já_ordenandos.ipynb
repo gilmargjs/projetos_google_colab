{
  "nbformat": 4,
  "nbformat_minor": 0,
  "metadata": {
    "colab": {
      "name": "iserir numeros na lista já ordenandos.ipynb",
      "provenance": [],
      "collapsed_sections": [],
      "authorship_tag": "ABX9TyOnTCGJgli7ofIiWaxlEJZC",
      "include_colab_link": true
    },
    "kernelspec": {
      "name": "python3",
      "display_name": "Python 3"
    },
    "language_info": {
      "name": "python"
    }
  },
  "cells": [
    {
      "cell_type": "markdown",
      "metadata": {
        "id": "view-in-github",
        "colab_type": "text"
      },
      "source": [
        "<a href=\"https://colab.research.google.com/github/gilmargjs/projetos_google_colab/blob/main/iserir_numeros_na_lista_j%C3%A1_ordenandos.ipynb\" target=\"_parent\"><img src=\"https://colab.research.google.com/assets/colab-badge.svg\" alt=\"Open In Colab\"/></a>"
      ]
    },
    {
      "cell_type": "markdown",
      "metadata": {
        "id": "ne6eUUdkFEv9"
      },
      "source": [
        "## Ex 080 - Crie um programa onde o usuario possa digatar cinco valores númericos e \n",
        "cadastre-os em uma lista. já na posição correta de inserção(sem usar o sort()). \n",
        "\n",
        "no final, mostre a lista ordenada na tela"
      ]
    },
    {
      "cell_type": "code",
      "metadata": {
        "colab": {
          "base_uri": "https://localhost:8080/"
        },
        "id": "oY2NleuYFAH5",
        "outputId": "8baf859e-20dd-46e1-d2d2-049cec78a949"
      },
      "source": [
        "#lista para iserir as variaveis\n",
        "lista = []\n",
        "#laço para pedir a inserção dos valores\n",
        "for c in range(0,5):\n",
        "  num = int(input('Digite um Número '))\n",
        "  #condição para o numero ser colocado na primeira ou ultima posição\n",
        "  if c == 0 or num > lista[-1]:\n",
        "    lista.append(num)\n",
        "    print('Adicionado no final da Lista ...')\n",
        "  else:\n",
        "    #variavel para colocar o valor das posições\n",
        "    pos = 0\n",
        "    #laço para verificar as posições na lista\n",
        "    while pos < len(lista):\n",
        "      #condição para o numero compara a posição dele com a lista  \n",
        "      if num <= lista[pos]:\n",
        "        lista.insert(pos, num)\n",
        "        print(f'Adicionado n aposição {pos} ...')\n",
        "        break\n",
        "      #variavel para armazenara a contagem\n",
        "      pos += 1\n",
        "print(f'Os Numeros digitados em ordem crescente é {lista}')"
      ],
      "execution_count": 16,
      "outputs": [
        {
          "output_type": "stream",
          "text": [
            "Digite um Número 8\n",
            "Adicionado no final da Lista ...\n",
            "Digite um Número 4\n",
            "Adicionado n aposição 0 ...\n",
            "Digite um Número 5\n",
            "Adicionado n aposição 1 ...\n",
            "Digite um Número 6\n",
            "Adicionado n aposição 2 ...\n",
            "Digite um Número 7\n",
            "Adicionado n aposição 3 ...\n",
            "Os Numeros digitados em ordem crescente é [4, 5, 6, 7, 8]\n"
          ],
          "name": "stdout"
        }
      ]
    }
  ]
}