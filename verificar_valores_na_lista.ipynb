{
  "nbformat": 4,
  "nbformat_minor": 0,
  "metadata": {
    "colab": {
      "name": "verificar valores na lista.ipynb",
      "provenance": [],
      "collapsed_sections": [],
      "authorship_tag": "ABX9TyPmZs7V1B1eCOJwAZTcEoW/",
      "include_colab_link": true
    },
    "kernelspec": {
      "name": "python3",
      "display_name": "Python 3"
    },
    "language_info": {
      "name": "python"
    }
  },
  "cells": [
    {
      "cell_type": "markdown",
      "metadata": {
        "id": "view-in-github",
        "colab_type": "text"
      },
      "source": [
        "<a href=\"https://colab.research.google.com/github/gilmargjs/projetos_google_colab/blob/main/verificar_valores_na_lista.ipynb\" target=\"_parent\"><img src=\"https://colab.research.google.com/assets/colab-badge.svg\" alt=\"Open In Colab\"/></a>"
      ]
    },
    {
      "cell_type": "markdown",
      "metadata": {
        "id": "-EL6rRAunP8G"
      },
      "source": [
        "## Ex081 - crie um programa que leia varios numeros e coloque em uma lista\n",
        "\n",
        "depois disso ,mostre\n",
        "\n",
        "a)quantos numeros foram digitados\n",
        "\n",
        "b)a lista de valores, oredenada de forma decrescente\n",
        "\n",
        "c)se o valor 5 foi digitado e está n alista"
      ]
    },
    {
      "cell_type": "code",
      "metadata": {
        "colab": {
          "base_uri": "https://localhost:8080/"
        },
        "id": "x62nrQ5cnMHo",
        "outputId": "6de6f2e2-0c7f-4e4a-8cfb-f74552d83360"
      },
      "source": [
        "#variavel simples para armazenar a contagem\n",
        "cont = 0\n",
        "#variavel composta para armazenar os números \n",
        "lista = []\n",
        "#laço para acrentar o valor na lista\n",
        "while True:\n",
        "  valor = int(input('Digite um Número: '))\n",
        "  lista.append(valor)\n",
        "  cont += 1\n",
        "  opcao = str(input('Quer Continuar? (S/N) ')).strip().upper()[0]\n",
        "  if opcao == \"N\":\n",
        "    break\n",
        "  else:\n",
        "    #condição para verificar se o valor está na lista\n",
        "    if 5 in lista:\n",
        "      cinco = 'o valor 5 está na lista '\n",
        "    else:\n",
        "      cinco = 'o valor 5 não faz parte da lista'\n",
        "#metodo para inverter  a lista \n",
        "lista.sort(reverse=True)\n",
        "print(f'A lista em ordem decrescente é {lista}')\n",
        "print(f'Foram Digitados {cont} números')\n",
        "print(f'{cinco}')\n"
      ],
      "execution_count": 12,
      "outputs": [
        {
          "output_type": "stream",
          "text": [
            "Digite um Número: 9\n",
            "Quer Continuar? (S/N) s\n",
            "Digite um Número: 6\n",
            "Quer Continuar? (S/N) s\n",
            "Digite um Número: 7\n",
            "Quer Continuar? (S/N) s\n",
            "Digite um Número: 8\n",
            "Quer Continuar? (S/N) n\n",
            "A lista em ordem decrescente é [9, 8, 7, 6]\n",
            "Foram Digitados 4 números\n",
            "5 não está na lista\n"
          ],
          "name": "stdout"
        }
      ]
    },
    {
      "cell_type": "markdown",
      "metadata": {
        "id": "NB2DLkwznP37"
      },
      "source": [
        ""
      ]
    }
  ]
}