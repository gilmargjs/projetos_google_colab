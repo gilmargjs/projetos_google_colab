{
  "nbformat": 4,
  "nbformat_minor": 0,
  "metadata": {
    "colab": {
      "name": "criando listas apartir e outra.ipynb",
      "provenance": [],
      "collapsed_sections": [],
      "authorship_tag": "ABX9TyNfT7M7D+Es7uMrfmvwM2tM",
      "include_colab_link": true
    },
    "kernelspec": {
      "name": "python3",
      "display_name": "Python 3"
    },
    "language_info": {
      "name": "python"
    }
  },
  "cells": [
    {
      "cell_type": "markdown",
      "metadata": {
        "id": "view-in-github",
        "colab_type": "text"
      },
      "source": [
        "<a href=\"https://colab.research.google.com/github/gilmargjs/projetos_google_colab/blob/main/criando_listas_apartir_e_outra.ipynb\" target=\"_parent\"><img src=\"https://colab.research.google.com/assets/colab-badge.svg\" alt=\"Open In Colab\"/></a>"
      ]
    },
    {
      "cell_type": "markdown",
      "metadata": {
        "id": "eBLPJrVavKb-"
      },
      "source": [
        "## Ex 82 - crie um programa que vai ler varios numeros e colocar em uma lista. \n",
        "\n",
        "depois disso , crie duas listas extras que vão conter apenas os valores pares\n",
        "e os valores impares digitados. no final mostre o conteido das 3 listas"
      ]
    },
    {
      "cell_type": "code",
      "metadata": {
        "colab": {
          "base_uri": "https://localhost:8080/"
        },
        "id": "dB8DZQMEvGy_",
        "outputId": "fef33398-c950-484d-b263-281f4bfbc379"
      },
      "source": [
        "#variaveis compostas para armazena os valores na lista\n",
        "lista = []\n",
        "lista_par = []\n",
        "lista_impar = []\n",
        "opcao = \"S\"\n",
        "#laço para acrecentar os numeros na lista\n",
        "while opcao != \"N\":\n",
        "  num = int(input('Número: '))\n",
        "  lista.append(num)\n",
        "  opcao = str(input('Quer Continuar? (S/N) ')).strip().upper()[0]\n",
        "  #condição para escolher qual lista será acrecentado os valores\n",
        "  if num % 2 == 0:\n",
        "    lista_par.append(num)\n",
        "  if num % 2 == 1:\n",
        "    lista_impar.append(num)\n",
        "print(f'A lista com todos os números é {lista}')\n",
        "print(f'Todos os número pares são {lista_par}')\n",
        "print(f'Todos os Númeoras impares são {lista_impar}')"
      ],
      "execution_count": 4,
      "outputs": [
        {
          "output_type": "stream",
          "text": [
            "Número: 8\n",
            "Quer Continuar? (S/N) s\n",
            "Número: 4\n",
            "Quer Continuar? (S/N) s\n",
            "Número: 3\n",
            "Quer Continuar? (S/N) s\n",
            "Número: 7\n",
            "Quer Continuar? (S/N) s9\n",
            "Número: 0\n",
            "Quer Continuar? (S/N) s\n",
            "Número: 1\n",
            "Quer Continuar? (S/N) s\n",
            "Número: 9\n",
            "Quer Continuar? (S/N) n\n",
            "A lista com todos os números é [8, 4, 3, 7, 0, 1, 9]\n",
            "Todos os número pares são [8, 4, 0]\n",
            "Todos os Númeoras impares são [3, 7, 1, 9]\n"
          ],
          "name": "stdout"
        }
      ]
    }
  ]
}